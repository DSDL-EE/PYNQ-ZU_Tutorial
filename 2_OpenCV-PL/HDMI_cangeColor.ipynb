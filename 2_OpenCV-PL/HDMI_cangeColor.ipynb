{
 "cells": [
  {
   "attachments": {},
   "cell_type": "markdown",
   "metadata": {},
   "source": [
    "***This program for change colorspace From HDMI Input and send to HDMI ouput***\n",
    ">Connection\n",
    "- connect HDMI Input with Output HDMI on user PC\n",
    "- connect HDMI Output to LCD monitor\n",
    "- Open Jupyter notebook on your PYNQ-ZU\n",
    "- Run The Program"
   ]
  },
  {
   "attachments": {},
   "cell_type": "markdown",
   "metadata": {},
   "source": [
    "import base overlay and load the bitstream file"
   ]
  },
  {
   "cell_type": "code",
   "execution_count": null,
   "metadata": {},
   "outputs": [],
   "source": [
    "from pynq.overlays.base import BaseOverlay\n",
    "from pynq.lib.video import *\n",
    "\n",
    "base = BaseOverlay(\"base.bit\")\n",
    "\n",
    "hdmi_in = base.video.hdmi_in\n",
    "hdmi_out = base.video.hdmi_out"
   ]
  },
  {
   "attachments": {},
   "cell_type": "markdown",
   "metadata": {},
   "source": [
    "Start and cconfigure HDMI Input and Output"
   ]
  },
  {
   "cell_type": "code",
   "execution_count": null,
   "metadata": {},
   "outputs": [],
   "source": [
    "hdmi_in.configure()\n",
    "hdmi_out.configure(hdmi_in.mode)\n",
    "\n",
    "hdmi_in.start()\n",
    "hdmi_out.start()"
   ]
  },
  {
   "attachments": {},
   "cell_type": "markdown",
   "metadata": {},
   "source": [
    "bound HDMI Output to HDMI Input"
   ]
  },
  {
   "cell_type": "code",
   "execution_count": null,
   "metadata": {},
   "outputs": [],
   "source": [
    "hdmi_in.tie(hdmi_out)"
   ]
  },
  {
   "attachments": {},
   "cell_type": "markdown",
   "metadata": {},
   "source": [
    "Read image from HDMI Input and convert color from BGR to laplacian grayscale and sent to HDMI out as BGR"
   ]
  },
  {
   "cell_type": "code",
   "execution_count": null,
   "metadata": {},
   "outputs": [],
   "source": [
    "import time\n",
    "import cv2\n",
    "import numpy as np\n",
    "\n",
    "numframes = 600\n",
    "start = time.time()\n",
    "\n",
    "grayscale = np.ndarray(shape=(hdmi_in.mode.height, hdmi_in.mode.width),\n",
    "                       dtype=np.uint8)\n",
    "result = np.ndarray(shape=(hdmi_in.mode.height, hdmi_in.mode.width),\n",
    "                    dtype=np.uint8)\n",
    "\n",
    "start = time.time()\n",
    "\n",
    "for _ in range(numframes):\n",
    "    inframe = hdmi_in.readframe()\n",
    "    cv2.cvtColor(inframe,cv2.COLOR_BGR2GRAY,dst=grayscale)\n",
    "    cv2.Laplacian(grayscale, cv2.CV_8U, dst=result)\n",
    "\n",
    "    outframe = hdmi_out.newframe()\n",
    "    cv2.cvtColor(result, cv2.COLOR_GRAY2BGR,dst=outframe)\n",
    "    hdmi_out.writeframe(outframe)\n",
    "    \n",
    "end = time.time()\n",
    "print(\"Frames per second:  \" + str(numframes / (end - start)))"
   ]
  },
  {
   "attachments": {},
   "cell_type": "markdown",
   "metadata": {},
   "source": [
    "Close HDMI connection"
   ]
  },
  {
   "cell_type": "code",
   "execution_count": null,
   "metadata": {},
   "outputs": [],
   "source": [
    "hdmi_out.close()\n",
    "hdmi_in.close()"
   ]
  }
 ],
 "metadata": {
  "language_info": {
   "name": "python"
  },
  "orig_nbformat": 4
 },
 "nbformat": 4,
 "nbformat_minor": 2
}
