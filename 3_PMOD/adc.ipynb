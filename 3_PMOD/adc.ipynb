{
 "cells": [
  {
   "attachments": {},
   "cell_type": "markdown",
   "metadata": {},
   "source": [
    "  ### Connection\n",
    "  - connect Pmod extension Module to PMOD_A on PYNQ-ZU\n",
    "  - connect Grove ADC Module To Pmod Extension Module G4 pin\n",
    "  - Open Jupyter notebook on your PYNQ-ZU\n",
    "  - Run The Program\n",
    "\n",
    "\n"
   ]
  },
  {
   "attachments": {},
   "cell_type": "markdown",
   "metadata": {},
   "source": [
    "\n",
    "Import Base overlay and load Bit file"
   ]
  },
  {
   "cell_type": "code",
   "execution_count": null,
   "metadata": {},
   "outputs": [],
   "source": [
    "from pynq.overlays.base import BaseOverlay\n",
    "base = BaseOverlay(\"base.bit\")"
   ]
  },
  {
   "attachments": {},
   "cell_type": "markdown",
   "metadata": {},
   "source": [
    "Configure Pin (Users can change the PIN and PORT according to their needs) "
   ]
  },
  {
   "cell_type": "code",
   "execution_count": null,
   "metadata": {},
   "outputs": [],
   "source": [
    "from pynq.lib.pmod import Grove_ADC\n",
    "from pynq.lib.pmod import PMOD_GROVE_G4"
   ]
  },
  {
   "attachments": {},
   "cell_type": "markdown",
   "metadata": {},
   "source": [
    "Read ADC and print once"
   ]
  },
  {
   "cell_type": "code",
   "execution_count": null,
   "metadata": {},
   "outputs": [],
   "source": [
    "grove_adc = Grove_ADC(base.PMODA,PMOD_GROVE_G4)\n",
    "print(\"{} V\".format(round(grove_adc.read(),4)))"
   ]
  },
  {
   "attachments": {},
   "cell_type": "markdown",
   "metadata": {},
   "source": [
    "Read ADC every time interval and display the graph use matplotlib"
   ]
  },
  {
   "cell_type": "code",
   "execution_count": null,
   "metadata": {},
   "outputs": [],
   "source": [
    "%matplotlib inline\n",
    "import matplotlib.pyplot as plt\n",
    "\n",
    "grove_adc.set_log_interval_ms(100) #set read interval\n",
    "grove_adc.start_log()\n",
    "log = grove_adc.get_log()\n",
    "\n",
    "plt.plot(range(len(log)), log, 'ro')\n",
    "plt.title('Grove ADC Voltage Log')\n",
    "plt.axis([0, len(log), min(log), max(log)])\n",
    "plt.show()"
   ]
  }
 ],
 "metadata": {
  "language_info": {
   "name": "python"
  },
  "orig_nbformat": 4
 },
 "nbformat": 4,
 "nbformat_minor": 2
}
