{
 "cells": [
  {
   "attachments": {},
   "cell_type": "markdown",
   "metadata": {},
   "source": [
    "  ### Connection\n",
    "  - connect Pmod extension Module to PMOD_A on PYNQ-ZU\n",
    "  - connect Grove ADC Module To Pmod Extension Module G4 pin\n",
    "  - Open Jupyter notebook on your PYNQ-ZU\n",
    "  - Run The Program"
   ]
  },
  {
   "attachments": {},
   "cell_type": "markdown",
   "metadata": {},
   "source": [
    "\n",
    "Import Base overlay and load Bit file"
   ]
  },
  {
   "cell_type": "code",
   "execution_count": null,
   "metadata": {},
   "outputs": [],
   "source": [
    "from pynq.overlays.base import BaseOverlay\n",
    "base = BaseOverlay(\"base.bit\")"
   ]
  },
  {
   "attachments": {},
   "cell_type": "markdown",
   "metadata": {},
   "source": [
    "read light illuminance value once"
   ]
  },
  {
   "cell_type": "code",
   "execution_count": null,
   "metadata": {},
   "outputs": [],
   "source": [
    "from pynq.lib.pmod import Grove_Light\n",
    "from pynq.lib.pmod import PMOD_GROVE_G4\n",
    "\n",
    "lgt = Grove_Light(base.PMODA,PMOD_GROVE_G4)\n",
    "\n",
    "sensor_val = lgt.read()\n",
    "print(sensor_val)"
   ]
  },
  {
   "attachments": {},
   "cell_type": "markdown",
   "metadata": {},
   "source": [
    "Read Illuminance every log interval and plot into matplotlib"
   ]
  },
  {
   "cell_type": "code",
   "execution_count": null,
   "metadata": {},
   "outputs": [],
   "source": [
    "import time\n",
    "%matplotlib inline\n",
    "import matplotlib.pyplot as plt\n",
    "\n",
    "lgt.set_log_interval_ms(100)\n",
    "lgt.start_log()\n",
    "# Change input during this time\n",
    "time.sleep(10)\n",
    "r_log = lgt.get_log()\n",
    "\n",
    "plt.plot(range(len(r_log)), r_log, 'ro')\n",
    "plt.title('Grove Light Plot')\n",
    "min_r_log = min(r_log)\n",
    "max_r_log = max(r_log)\n",
    "plt.axis([0, len(r_log), min_r_log, max_r_log])\n",
    "plt.show()"
   ]
  }
 ],
 "metadata": {
  "kernelspec": {
   "display_name": "Python 3",
   "language": "python",
   "name": "python3"
  },
  "language_info": {
   "name": "python",
   "version": "3.10.6"
  },
  "orig_nbformat": 4
 },
 "nbformat": 4,
 "nbformat_minor": 2
}
