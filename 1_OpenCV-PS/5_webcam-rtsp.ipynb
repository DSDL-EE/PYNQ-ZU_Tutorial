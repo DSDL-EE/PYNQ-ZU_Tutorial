{
 "cells": [
  {
   "cell_type": "markdown",
   "id": "21985257",
   "metadata": {},
   "source": [
    "# Webcam Live on Jupyter over RTSP\n",
    "\n",
    "This example shows you how to capture a live webcam stream over network using Real Time Streaming Protocol (RTSP), and playback on Jupyter lab.\n",
    "\n",
    "It is required to attach a webcam to your PC before running the following code.\n",
    "\n",
    "Environment Setup:\n",
    "```\n",
    "- PC     : Ubuntu 22.04 | 192.168.2.x (x: any)\n",
    "- PYNQ-ZU: PYNQ-3.0     | 192.168.2.99\n",
    "```\n",
    "\n",
    "### On PC, install packages:\n",
    "```shell\n",
    "sudo apt-get install libgstreamer1.0-dev libgstreamer-plugins-base1.0-dev libgstreamer-plugins-bad1.0-dev gstreamer1.0-plugins-base gstreamer1.0-plugins-good gstreamer1.0-plugins-bad gstreamer1.0-plugins-ugly gstreamer1.0-libav gstreamer1.0-tools gstreamer1.0-x gstreamer1.0-alsa gstreamer1.0-gl gstreamer1.0-gtk3 gstreamer1.0-qt5 gstreamer1.0-pulseaudio\n",
    "```\n",
    "\n",
    "#### If your PC runs Ubuntu-22.04\n",
    "```\n",
    "# fix dependencies\n",
    "sudo apt-get install libgstreamer-plugins-bad1.0-0=1.20.1-1ubuntu2\n",
    "sudo apt-get install libgstreamer-plugins-bad1.0-dev\n",
    "\n",
    "# install plugins\n",
    "sudo apt-get install gstreamer1.0-libav\n",
    "sudo apt-get install gstreamer1.0-plugins-ugly gstreamer1.0-plugins-bad gstreamer1.0-plugins-good\n",
    "sudo apt install ffmpeg\n",
    "```\n",
    "\n",
    "Attach a webcam to your PC, properly check the existence of the device.\n",
    "```\n",
    "ls /dev/video*\n",
    "```\n",
    "\n",
    "Assume that the webcam is connected as `/dev/video0`.\n",
    "\n",
    "On your PC, start streaming the video stream to `192.168.2.99:5600` endpoint by:\n",
    "```shell\n",
    "gst-launch-1.0 -v v4l2src device=/dev/video0 ! videoconvert ! video/x-raw,format=I420,width=640,height=480 ! x264enc tune=zerolatency bitrate=480 speed-preset=ultrafast! video/x-h264,profile=baseline ! rtph264pay ! udpsink host=192.168.2.99 port=5600\n",
    "```\n",
    "\n",
    "### On PYNQ-ZU, install packages:\n",
    "```shell\n",
    "sudo apt install linux-headers-generic dctrl-tools dkms\n",
    "\n",
    "sudo apt-get install libgstreamer1.0-dev libgstreamer-plugins-base1.0-dev libgstreamer-plugins-bad1.0-dev gstreamer1.0-plugins-base gstreamer1.0-plugins-good gstreamer1.0-plugins-bad gstreamer1.0-plugins-ugly gstreamer1.0-libav gstreamer1.0-tools gstreamer1.0-x gstreamer1.0-alsa gstreamer1.0-gl gstreamer1.0-gtk3 gstreamer1.0-qt5 gstreamer1.0-pulseaudio\n",
    "```\n",
    "\n",
    "User should take a look in the OpenCV-Python's build information to make sure Gstreamer is available on PYNQ-ZU or not."
   ]
  },
  {
   "cell_type": "code",
   "execution_count": null,
   "id": "e0294a37",
   "metadata": {
    "scrolled": false
   },
   "outputs": [],
   "source": [
    "import cv2\n",
    "print(cv2.getBuildInformation())"
   ]
  },
  {
   "cell_type": "markdown",
   "id": "c1328800",
   "metadata": {},
   "source": [
    "The information should contain:\n",
    "    \n",
    "```\n",
    "...\n",
    "  Video I/O:\n",
    "    DC1394:                      YES (2.2.6)\n",
    "    FFMPEG:                      YES\n",
    "      avcodec:                   YES (58.134.100)\n",
    "      avformat:                  YES (58.76.100)\n",
    "      avutil:                    YES (56.70.100)\n",
    "      swscale:                   YES (5.9.100)\n",
    "      avresample:                NO\n",
    "    GStreamer:                   YES (1.19.90)\n",
    "    PvAPI:                       NO\n",
    "    v4l/v4l2:                    YES (linux/videodev2.h)\n",
    "    gPhoto2:                     YES\n",
    "...\n",
    "```"
   ]
  },
  {
   "cell_type": "code",
   "execution_count": null,
   "id": "0dd423a7",
   "metadata": {},
   "outputs": [],
   "source": [
    "import numpy as np\n",
    "import cv2\n",
    "from IPython import display\n",
    "from PIL import Image\n",
    "import matplotlib.pyplot as py\n",
    "\n",
    "import gi\n",
    "gi.require_version('Gst', '1.0')\n",
    "from gi.repository import Gst\n",
    "\n",
    "%matplotlib inline"
   ]
  },
  {
   "cell_type": "markdown",
   "id": "6e30cb0b",
   "metadata": {},
   "source": [
    "## Normal live stream playback"
   ]
  },
  {
   "cell_type": "code",
   "execution_count": null,
   "id": "92d9d019",
   "metadata": {},
   "outputs": [],
   "source": [
    "def showVideo(port=5600, scale=0.5):\n",
    "    \n",
    "    # remember to leave a space character in the end of each element\n",
    "    element_1 = \"udpsrc port={} \".format(port)\n",
    "    element_2 = \"! application/x-rtp,encoding-name=H264,payload=96 \"\n",
    "    element_3 = \"! rtph264depay ! h264parse ! avdec_h264 \"\n",
    "    element_4 = \"! videoconvert ! appsink \"\n",
    "    \n",
    "    gst_pipeline = element_1 + element_2 + element_3 + element_4\n",
    "    \n",
    "    video = cv2.VideoCapture(gst_pipeline, cv2.CAP_GSTREAMER)\n",
    "    \n",
    "    try:        \n",
    "        counter = 0\n",
    "        while(True):\n",
    "            ret, frame = video.read()\n",
    "            if not ret:\n",
    "                counter += 1\n",
    "                if counter == 100:\n",
    "                    print(\"Video stream is not available.\")\n",
    "                    break\n",
    "                continue\n",
    "\n",
    "            resized = cv2.resize(frame, (0, 0), fx = scale, fy = scale)\n",
    "            _,ret_array = cv2.imencode('.jpg', resized) #this fixed the pipeline issue as the imshow was converting to png.\n",
    "            i = display.Image(data=ret_array)\n",
    "            display.display(i)\n",
    "            display.clear_output(wait=True)\n",
    "\n",
    "    except KeyboardInterrupt:\n",
    "        print(\"Released Video Resource from KeyboardInterrupt.\")\n",
    "    finally:\n",
    "        del video\n"
   ]
  },
  {
   "cell_type": "code",
   "execution_count": null,
   "id": "7303d4b3",
   "metadata": {
    "scrolled": false
   },
   "outputs": [],
   "source": [
    "showVideo(5600, 0.5)"
   ]
  },
  {
   "cell_type": "markdown",
   "id": "7df5e0f0",
   "metadata": {},
   "source": [
    "## Live stream with filters"
   ]
  },
  {
   "cell_type": "code",
   "execution_count": null,
   "id": "bd24ba18",
   "metadata": {},
   "outputs": [],
   "source": [
    "def showVideoWithFilter(port=5600, scale=0.5, filter_name=None):\n",
    "    # remember to leave a space character in the end of each element\n",
    "    element_1 = \"udpsrc port={} \".format(port)\n",
    "    element_2 = \"! application/x-rtp,encoding-name=H264,payload=96 \"\n",
    "    element_3 = \"! rtph264depay ! h264parse ! avdec_h264 \"\n",
    "    element_4 = \"! videoconvert ! appsink \"\n",
    "    \n",
    "    gst_pipeline = element_1 + element_2 + element_3 + element_4\n",
    "    \n",
    "    video = cv2.VideoCapture(gst_pipeline, cv2.CAP_GSTREAMER)\n",
    "    \n",
    "    try:        \n",
    "        counter = 0\n",
    "        while(True):\n",
    "            ret, frame = video.read()\n",
    "            if not ret:\n",
    "                counter += 1\n",
    "                if counter == 100:\n",
    "                    print(\"Video stream is not available.\")\n",
    "                    break\n",
    "                continue\n",
    "\n",
    "            resized = cv2.resize(frame, (0, 0), fx = scale, fy = scale)\n",
    "            filtered = resized\n",
    "            \n",
    "            ## Filtering\n",
    "            if filter_name == None:\n",
    "                pass\n",
    "            elif filter_name == 'canny':\n",
    "                filtered = cv2.Canny(resized, 100, 110)\n",
    "            elif filter_name == 'blur':\n",
    "                filtered = cv2.GaussianBlur(resized,(5,5),0)\n",
    "            else:\n",
    "                print(\"Chosen filter is not supported.\")\n",
    "                break\n",
    "            \n",
    "            _,ret_array = cv2.imencode('.jpg', filtered) #this fixed the pipeline issue as the imshow was converting to png.\n",
    "            i = display.Image(data=ret_array)\n",
    "            display.display(i)\n",
    "            display.clear_output(wait=True)\n",
    "\n",
    "    except KeyboardInterrupt:\n",
    "        print(\"Released Video Resource from KeyboardInterrupt.\")\n",
    "    finally:\n",
    "        del video"
   ]
  },
  {
   "cell_type": "code",
   "execution_count": null,
   "id": "f67ef49b",
   "metadata": {},
   "outputs": [],
   "source": [
    "showVideoWithFilter(5600, 0.5, 'canny') # or use 'blur' instead of 'canny'."
   ]
  },
  {
   "cell_type": "markdown",
   "id": "a0c63330",
   "metadata": {},
   "source": [
    "## Reference\n",
    "\n",
    "[1] https://raymondlo84.medium.com/how-to-run-webcam-closer-to-real-time-performance-on-jupyter-notebook-python-3-in-2021-284c6c6364c6"
   ]
  }
 ],
 "metadata": {
  "kernelspec": {
   "display_name": "Python 3 (ipykernel)",
   "language": "python",
   "name": "python3"
  },
  "language_info": {
   "codemirror_mode": {
    "name": "ipython",
    "version": 3
   },
   "file_extension": ".py",
   "mimetype": "text/x-python",
   "name": "python",
   "nbconvert_exporter": "python",
   "pygments_lexer": "ipython3",
   "version": "3.10.4"
  }
 },
 "nbformat": 4,
 "nbformat_minor": 5
}
